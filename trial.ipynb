{
 "cells": [
  {
   "cell_type": "code",
   "execution_count": 38,
   "metadata": {},
   "outputs": [],
   "source": [
    "from datetime import datetime, timedelta\n",
    "import json\n",
    "from bs4 import BeautifulSoup\n",
    "import requests\n",
    "from dataclasses import dataclass\n",
    "api_key = 'CKHSNRX8KKJ3FWSB925LNPTSZ'"
   ]
  },
  {
   "cell_type": "code",
   "execution_count": 39,
   "metadata": {},
   "outputs": [],
   "source": [
    "def getResponse(url):\n",
    "    return requests.get(url)\n",
    "\n",
    "def getHTML(response):\n",
    "    return response.text"
   ]
  },
  {
   "cell_type": "code",
   "execution_count": 40,
   "metadata": {},
   "outputs": [],
   "source": [
    "@dataclass\n",
    "class Holiday:\n",
    "    name: str\n",
    "    date: str\n",
    "    \n",
    "    def __str__ (self):\n",
    "        return (f'{self.name} ({self.date})')"
   ]
  },
  {
   "cell_type": "code",
   "execution_count": 41,
   "metadata": {},
   "outputs": [],
   "source": [
    "@dataclass\n",
    "class Weather:\n",
    "    date: str\n",
    "    conditions: str"
   ]
  },
  {
   "cell_type": "code",
   "execution_count": 54,
   "metadata": {},
   "outputs": [],
   "source": [
    "def get_weather():\n",
    "    current_time = datetime.now()\n",
    "    current_date = (f'{current_time.year}-{current_time.month}-{current_time.day}')\n",
    "    dt = datetime.strptime(current_date, '%Y-%m-%d')\n",
    "    start_temp = dt - timedelta(days=dt.weekday())\n",
    "    end_temp = start_temp + timedelta(days=6)\n",
    "    start = start_temp.strftime('%Y-%m-%d')\n",
    "    end = end_temp.strftime('%Y-%m-%d')\n",
    "\n",
    "    url = f'https://weather.visualcrossing.com/VisualCrossingWebServices/rest/services/timeline/Brooklyn%2C%20NY/{start}/{end}?unitGroup=metric&elements=datetime%2Cconditions&include=days&key={api_key}&contentType=json'\n",
    "\n",
    "    response = requests.get(url)\n",
    "    response\n",
    "    json = response.json()\n",
    "\n",
    "    global weather_list\n",
    "    global weather_info\n",
    "    weather_list = []\n",
    "    for i in range(0,7):\n",
    "        date = json['days'][i]['datetime']\n",
    "        weather_desc = json['days'][i]['conditions']\n",
    "        weather_info = Weather(date, weather_desc)\n",
    "        weather_list.append(weather_info)\n",
    "    \n",
    "    return print(weather_list)"
   ]
  },
  {
   "cell_type": "code",
   "execution_count": 55,
   "metadata": {},
   "outputs": [
    {
     "name": "stdout",
     "output_type": "stream",
     "text": [
      "[Weather(date='2022-08-22', conditions='Rain, Partially cloudy'), Weather(date='2022-08-23', conditions='Rain, Partially cloudy'), Weather(date='2022-08-24', conditions='Partially cloudy'), Weather(date='2022-08-25', conditions='Partially cloudy'), Weather(date='2022-08-26', conditions='Rain, Partially cloudy'), Weather(date='2022-08-27', conditions='Partially cloudy'), Weather(date='2022-08-28', conditions='Partially cloudy')]\n"
     ]
    }
   ],
   "source": [
    "get_weather()"
   ]
  },
  {
   "cell_type": "code",
   "execution_count": 44,
   "metadata": {},
   "outputs": [
    {
     "data": {
      "text/plain": [
       "[Holiday(name='Christmas', date='2022-12-25'),\n",
       " Holiday(name=\"Valentine's Day\", date='2022-02-14'),\n",
       " Holiday(name='Birthday', date='2022-02-13')]"
      ]
     },
     "execution_count": 44,
     "metadata": {},
     "output_type": "execute_result"
    }
   ],
   "source": [
    "christmas = Holiday('Christmas', '2022-12-25')\n",
    "vday = Holiday('Valentine\\'s Day', '2022-02-14')\n",
    "bday = Holiday('Birthday', '2022-02-13')\n",
    "\n",
    "holidays = []\n",
    "holidays.append(christmas)\n",
    "holidays.append(vday)\n",
    "holidays.append(bday)\n",
    "holidays"
   ]
  },
  {
   "cell_type": "code",
   "execution_count": 62,
   "metadata": {},
   "outputs": [],
   "source": [
    "@dataclass\n",
    "class HolidayList:\n",
    "    inner_holidays: list\n",
    "\n",
    "    def add_holiday(self, new_holiday_obj):\n",
    "        if new_holiday_obj in self.inner_holidays:\n",
    "            return(f'That holiday already exists. Please try again.')\n",
    "        else:\n",
    "            self.inner_holidays.append(new_holiday_obj)\n",
    "            return(f'\\nSuccess!\\n{new_holiday_obj.name} has been added to the list.')\n",
    "\n",
    "    def search_holidays(self, search_obj):\n",
    "        for holiday in self.inner_holidays:\n",
    "            if search_obj.name == holiday.name and search_obj.date == holiday.date:\n",
    "                return holiday\n",
    "        else:\n",
    "            return('Holiday not found')\n",
    "\n",
    "    def delete_holiday(self):\n",
    "        holiday_found = False\n",
    "        while holiday_found == False: \n",
    "            holiday_name_search = input('\\nName: ')\n",
    "            holiday_date_search = input('\\nDate: ')\n",
    "            for holiday in self.inner_holidays:\n",
    "                if holiday_name_search == holiday.name and holiday_date_search == holiday.date:\n",
    "                    self.inner_holidays.remove(holiday)\n",
    "                    return (f'{holiday_name_search} deleted from list.')\n",
    "            else:\n",
    "                print('Holiday not found')\n",
    "                continue\n",
    "\n",
    "    def read_json(self):\n",
    "        f = open(R'C:\\Users\\Jason Ruckel\\Documents\\advanced_python\\holiday-assignment\\holidays.json')\n",
    "        data = json.load(f)\n",
    "        for i in range(0, len(data)):\n",
    "            name = data[i]['name']\n",
    "            date = data[i]['date']\n",
    "            new_holiday_obj = Holiday(name, date)\n",
    "            print(f'Adding holiday {new_holiday_obj.name}.')\n",
    "            self.add_holiday(new_holiday_obj)\n",
    "\n",
    "    def save_to_json(self):\n",
    "        holiday_list = [holiday.__dict__ for holiday in self.inner_holidays]\n",
    "        with open(R'C:\\Users\\Jason Ruckel\\Documents\\advanced_python\\holiday-assignment\\holidays.json', 'w') as file:\n",
    "            json.dump(holiday_list, file, indent = 4)\n",
    "        return('Holidays were successfully saved to your file.')  \n",
    "\n",
    "    def check_if_saved(self):\n",
    "        holiday_list = [holiday.__dict__ for holiday in self.inner_holidays]\n",
    "        json_holiday_list = []\n",
    "        json_holiday_dict = [holiday.__dict__ for holiday in json_holiday_list]\n",
    "        f = open(R'C:\\Users\\Jason Ruckel\\Documents\\advanced_python\\holiday-assignment\\holidays.json')\n",
    "        data = json.load(f)\n",
    "        for i in range(0, len(data)):\n",
    "            name = data[i]['name']\n",
    "            date = data[i]['date']\n",
    "            new_holiday_obj = Holiday(name, date)\n",
    "            json_holiday_list.append(new_holiday_obj)\n",
    "        if holiday_list == json_holiday_dict:\n",
    "            return True\n",
    "        if holiday_list != json_holiday_dict:\n",
    "            return False\n",
    "\n",
    "    def scrape_holidays(self):\n",
    "        for i in range (2020, 2025):\n",
    "            url = f'https://www.timeanddate.com/holidays/us/{i}?hol=43119487'\n",
    "            print(f'Scraping holidays from {i}')\n",
    "\n",
    "            resp = getResponse(url)\n",
    "            html = getHTML(resp)\n",
    "\n",
    "            soup = BeautifulSoup(html, 'html.parser')\n",
    "\n",
    "            rows = soup.find_all('tr', attrs = {'showrow'})\n",
    "\n",
    "            for row in rows:\n",
    "                date = row.find('th').text\n",
    "                def mdy_to_ymd(d):\n",
    "                    return datetime.strptime(d, '%b %d').strftime(f'{i}-%m-%d')\n",
    "                formatted_date = mdy_to_ymd(date)\n",
    "                name = row.find('a').text\n",
    "                holiday = Holiday(name, formatted_date)\n",
    "                self.add_holiday(holiday)\n",
    "    \n",
    "    def get_len(self):\n",
    "        return len(self.inner_holidays)\n",
    "\n",
    "    def convert_date_to_week_number(self, year, week_number):\n",
    "        holidays_in_week = []\n",
    "        for holiday in self.inner_holidays:\n",
    "            from datetime import datetime\n",
    "            string = holiday.date\n",
    "            date = datetime.strptime(string, '%Y-%m-%d')\n",
    "\n",
    "            y = date.year\n",
    "            m = date.month\n",
    "            d = date.day\n",
    "\n",
    "            import datetime\n",
    "            get_week = lambda y, m, d : datetime.date(y, m, d).isocalendar().week\n",
    "\n",
    "            week_of_holiday = get_week(y, m, d)\n",
    "            \n",
    "            if y == year and week_of_holiday == week_number:\n",
    "                holidays_in_week.append(holiday)\n",
    "                continue\n",
    "            else:\n",
    "                continue\n",
    "        return holidays_in_week  \n",
    "\n",
    "    def get_current_holidays(self, year, week_number):\n",
    "        holidays_in_week = []\n",
    "        for holiday in self.inner_holidays:\n",
    "            from datetime import datetime\n",
    "            string = holiday.date\n",
    "            date = datetime.strptime(string, '%Y-%m-%d')\n",
    "\n",
    "            y = date.year\n",
    "            m = date.month\n",
    "            d = date.day\n",
    "\n",
    "            import datetime\n",
    "            get_week = lambda y, m, d : datetime.date(y, m, d).isocalendar().week\n",
    "\n",
    "            week_of_holiday = get_week(y, m, d)\n",
    "            \n",
    "            if y == year and week_of_holiday == week_number:\n",
    "                holidays_in_week.append(holiday)\n",
    "                continue\n",
    "            else:\n",
    "                continue\n",
    "        print('\\nThese are the holidays for this week:')\n",
    "        for holiday in holidays_in_week:\n",
    "            print(f'\\n{holiday.name} ({holiday.date})')\n",
    "        for holiday in holidays_in_week:\n",
    "            if holiday.date == weather_info.date:\n",
    "                print(f'\\n{holiday.name} ({holiday.date}) - {weather_info.conditions}')\n",
    "            else:\n",
    "                print('didnt work')"
   ]
  },
  {
   "cell_type": "code",
   "execution_count": 46,
   "metadata": {},
   "outputs": [],
   "source": [
    "library = HolidayList(holidays)"
   ]
  },
  {
   "cell_type": "code",
   "execution_count": null,
   "metadata": {},
   "outputs": [],
   "source": []
  },
  {
   "cell_type": "code",
   "execution_count": null,
   "metadata": {},
   "outputs": [],
   "source": [
    "for holiday in holidays_in_week and weather_info in weather_list:\n",
    "    if holiday.date == weather_info.date:\n",
    "        print(f'\\n{holiday.name} ({holiday.date}) - {weather_info.conditions}')"
   ]
  },
  {
   "cell_type": "code",
   "execution_count": 63,
   "metadata": {},
   "outputs": [],
   "source": [
    "library.get_current_holidays(2022, 34)"
   ]
  },
  {
   "cell_type": "code",
   "execution_count": null,
   "metadata": {},
   "outputs": [],
   "source": [
    "library.get_current_holidays(2022, 34)"
   ]
  },
  {
   "cell_type": "code",
   "execution_count": 32,
   "metadata": {},
   "outputs": [
    {
     "data": {
      "text/plain": [
       "[Holiday(name='Rosa Parks Day', date='2020-02-04'),\n",
       " Holiday(name='National Girls and Women in Sports Day', date='2020-02-05'),\n",
       " Holiday(name='Ronald Reagan Day', date='2020-02-06'),\n",
       " Holiday(name='National Wear Red Day', date='2020-02-07')]"
      ]
     },
     "execution_count": 32,
     "metadata": {},
     "output_type": "execute_result"
    }
   ],
   "source": [
    "library.convert_date_to_week_number(2020, 6)"
   ]
  },
  {
   "cell_type": "code",
   "execution_count": 34,
   "metadata": {},
   "outputs": [
    {
     "data": {
      "text/plain": [
       "34"
      ]
     },
     "execution_count": 34,
     "metadata": {},
     "output_type": "execute_result"
    }
   ],
   "source": [
    "datetime.now().isocalendar().week"
   ]
  },
  {
   "cell_type": "code",
   "execution_count": 49,
   "metadata": {},
   "outputs": [
    {
     "data": {
      "text/plain": [
       "1565"
      ]
     },
     "execution_count": 49,
     "metadata": {},
     "output_type": "execute_result"
    }
   ],
   "source": [
    "library.get_len()"
   ]
  },
  {
   "cell_type": "code",
   "execution_count": 48,
   "metadata": {},
   "outputs": [
    {
     "name": "stdout",
     "output_type": "stream",
     "text": [
      "Scraping holidays from 2020\n",
      "Scraping holidays from 2021\n",
      "Scraping holidays from 2022\n",
      "Scraping holidays from 2023\n",
      "Scraping holidays from 2024\n"
     ]
    }
   ],
   "source": [
    "library.scrape_holidays()"
   ]
  },
  {
   "cell_type": "code",
   "execution_count": null,
   "metadata": {},
   "outputs": [],
   "source": [
    "library.read_json()"
   ]
  },
  {
   "cell_type": "code",
   "execution_count": null,
   "metadata": {},
   "outputs": [],
   "source": [
    "library.save_to_json()"
   ]
  },
  {
   "cell_type": "code",
   "execution_count": null,
   "metadata": {},
   "outputs": [],
   "source": [
    "library"
   ]
  },
  {
   "cell_type": "code",
   "execution_count": null,
   "metadata": {},
   "outputs": [],
   "source": [
    "\n",
    "from datetime import datetime\n",
    "\n",
    "string = '2022-07-13'\n",
    "date = datetime.strptime(string, '%Y-%m-%d')\n",
    "\n",
    "y = date.year\n",
    "m = date.month\n",
    "d = date.day\n",
    "\n",
    "import datetime\n",
    "get_week = lambda y, m, d : datetime.date(y, m, d).isocalendar().week\n",
    "\n",
    "get_week(y, m, d)"
   ]
  },
  {
   "cell_type": "code",
   "execution_count": null,
   "metadata": {},
   "outputs": [],
   "source": [
    "#adding a holiday for menu item 1\n",
    "checking_holiday_date = True\n",
    "while checking_holiday_date == True:\n",
    "    new_holiday_name = input('\\nName: ')\n",
    "    new_holiday_date = input('\\nDate: ')  \n",
    "    try:\n",
    "        datetime.strptime(new_holiday_date, '%Y-%m-%d')\n",
    "        new_holiday_obj = Holiday(new_holiday_name, new_holiday_date)\n",
    "        library.add_holiday(new_holiday_obj)\n",
    "        checking_holiday_date = False\n",
    "    except ValueError:\n",
    "        print('Please format your date \\'YYYY-MM-DD\\'')\n",
    "        continue"
   ]
  }
 ],
 "metadata": {
  "kernelspec": {
   "display_name": "Python 3.9.12 ('base')",
   "language": "python",
   "name": "python3"
  },
  "language_info": {
   "codemirror_mode": {
    "name": "ipython",
    "version": 3
   },
   "file_extension": ".py",
   "mimetype": "text/x-python",
   "name": "python",
   "nbconvert_exporter": "python",
   "pygments_lexer": "ipython3",
   "version": "3.9.12"
  },
  "orig_nbformat": 4,
  "vscode": {
   "interpreter": {
    "hash": "8f3967fce7f196be6a554692a12c8eda7502595c9702682fc9683945844ae9f3"
   }
  }
 },
 "nbformat": 4,
 "nbformat_minor": 2
}
